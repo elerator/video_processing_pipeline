{
 "cells": [
  {
   "cell_type": "markdown",
   "metadata": {},
   "source": [
    "# Compute dense optical flow using farneback"
   ]
  },
  {
   "cell_type": "code",
   "execution_count": null,
   "metadata": {},
   "outputs": [],
   "source": [
    "#from python_scripts.MPI_Data_Processing.mot import *\n",
    "from mot import *\n",
    "from os.path import basename\n",
    "import os\n",
    "\n",
    "vid = \"./RPS_05_PS_C2.wmv\"\n",
    "outfile = \"./motion_tensors/motion_vectors_farneback3.hdf5\""
   ]
  },
  {
   "cell_type": "code",
   "execution_count": null,
   "metadata": {},
   "outputs": [],
   "source": [
    "#Input scaled to one quater of the original size of the frames. "
   ]
  },
  {
   "cell_type": "code",
   "execution_count": null,
   "metadata": {},
   "outputs": [],
   "source": [
    "motob = ComputeMotion(vid,outfile,algorithm='farneback', scaled_size = (480,270), output_scaling = .25, use_multiprocessing = False)\n",
    "motob.to_file()"
   ]
  },
  {
   "cell_type": "markdown",
   "metadata": {},
   "source": [
    "# Compute dense optical flow using Brocks"
   ]
  },
  {
   "cell_type": "code",
   "execution_count": 1,
   "metadata": {},
   "outputs": [],
   "source": [
    "#from python_scripts.MPI_Data_Processing.mot import *\n",
    "from mot import *\n",
    "from os.path import basename\n",
    "import os\n",
    "\n",
    "vid = \"./RPS_05_PS_C2.wmv\"\n",
    "outfile = \"./motion_vectors_brocks2.hdf5\""
   ]
  },
  {
   "cell_type": "code",
   "execution_count": null,
   "metadata": {},
   "outputs": [],
   "source": [
    "motob = ComputeMotion(vid,outfile,algorithm='brocks', scaled_size = (480,270), output_scaling = .25)\n",
    "motob.to_file()"
   ]
  },
  {
   "cell_type": "markdown",
   "metadata": {},
   "source": [
    "# Extract dense optical flow from H264"
   ]
  },
  {
   "cell_type": "code",
   "execution_count": 3,
   "metadata": {},
   "outputs": [],
   "source": [
    "outfile = os.getcwd()+\"/motion_tensors/motion_vectors_h264.h5\"\n",
    "vid = os.getcwd()+\"/RPS_05_PS_C2.wmv\""
   ]
  },
  {
   "cell_type": "code",
   "execution_count": 4,
   "metadata": {},
   "outputs": [],
   "source": [
    "decode_motion = \"/mnt/c/Users/eler/Documents/Cognitive_Science/Bachelorarbeit/Scripts/dense_flow_decoder/decode_motion\""
   ]
  },
  {
   "cell_type": "code",
   "execution_count": 24,
   "metadata": {},
   "outputs": [
    {
     "name": "stdout",
     "output_type": "stream",
     "text": [
      "Input #0, asf, from '/mnt/c/Users/eler/Documents/Cognitive_Science/Bachelorarbeit/Scripts/video_processing_pipeline/correlation_between_detected_motion/RPS_05_PS_C2.wmv':\n",
      "  Metadata:\n",
      "    WMFSDKNeeded    : 0.0.0.0000\n",
      "    WMFSDKVersion   : 12.0.15063.608\n",
      "    IsVBR           : 0\n",
      "  Duration: 00:20:00.81, bitrate: 1609 kb/s\n",
      "    Stream #0:0(eng): Video: h264 (Main) (H264 / 0x34363248), yuvj420p(pc, bt709, progressive), 1920x1080 [SAR 1:1 DAR 16:9], 50000 kb/s, 25 fps, 25 tbr, 1k tbn, 2k tbc\n",
      "\n",
      "**************************************************************************************\n",
      "*       Tool : Dense Flow Decoder                                                    *\n",
      "*     Author : Michael Gerstenberger (see copyright for version history and authors) *\n",
      "*  Used Libs : FFmpeg, HDF5                                                          *\n",
      "*Description : A tool to extract motion vectors from H264 videos and save them as    *\n",
      "             : a tensor of size n_frames x width x height x 2 (for dx and dy) in     *\n",
      "             : HDF5 format (One vector for each 16x16 pixels macroblock. Vectors for *\n",
      "             : 8x8 blocks are summerized as this yields a more dense representation. *\n",
      "             : The unit of dx and dy are pixels of the original frames)              *\n",
      "*      Input : Video encoded in H264. Other formats may work as well.                *\n",
      "*     Output : HDF5 file named motion_vectors.h5 containing motion tensor at node    *\n",
      "             : motion_tensor.                                                        *\n",
      "*      Usage: ./decode_motion filepath_to_video.mp4                                 *\n",
      "**************************************************************************************\n",
      "\n",
      "--------------------------------------------------------------------------------------\n",
      "\n",
      "* video width and height:  1920\t1080\n",
      "\n",
      "* output width and height:  120\t67\n",
      "--------------------------------------------------------------------------------------\n",
      "Total Processed Frames:654^C\n"
     ]
    }
   ],
   "source": [
    "! {decode_motion} {vid} {outfile}"
   ]
  },
  {
   "cell_type": "markdown",
   "metadata": {},
   "source": [
    "## Median filter h264"
   ]
  },
  {
   "cell_type": "code",
   "execution_count": 5,
   "metadata": {},
   "outputs": [],
   "source": [
    "from scipy.ndimage import median_filter\n",
    "\n",
    "h264_median = os.getcwd() + \"/motion_tensors/motion_vectors_h264_median.hdf\"\n",
    "\n",
    "f2 = tables.open_file(outfile, mode='r')\n",
    "b = f2.root.motion_tensor\n",
    "\n",
    "c = np.ndarray(b.shape)\n",
    "\n",
    "print(\"This takes a while\")\n",
    "c[:,:,:,0] = median_filter(b[:,:,:,0], size = 2)\n",
    "print(\"Half way done\")\n",
    "c[:,:,:,1] = median_filter(b[:,:,:,1], size = 2)"
   ]
  },
  {
   "cell_type": "code",
   "execution_count": null,
   "metadata": {},
   "outputs": [],
   "source": [
    "f = tables.open_file(h264_median, 'w')\n",
    "atom = tables.Atom.from_dtype(np.int32)\n",
    "ds = f.create_carray(f.root, 'motion_tensor', atom, c.shape)\n",
    "ds[:] = c\n",
    "f.close()"
   ]
  }
 ],
 "metadata": {
  "kernelspec": {
   "display_name": "Python 3",
   "language": "python",
   "name": "python3"
  },
  "language_info": {
   "codemirror_mode": {
    "name": "ipython",
    "version": 3
   },
   "file_extension": ".py",
   "mimetype": "text/x-python",
   "name": "python",
   "nbconvert_exporter": "python",
   "pygments_lexer": "ipython3",
   "version": "3.6.6"
  }
 },
 "nbformat": 4,
 "nbformat_minor": 2
}
