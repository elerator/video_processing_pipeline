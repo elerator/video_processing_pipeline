{
 "cells": [
  {
   "cell_type": "code",
   "execution_count": null,
   "metadata": {},
   "outputs": [],
   "source": [
    "import numpy as np\n",
    "import tables\n",
    "import os\n",
    "\n",
    "np.set_printoptions(threshold=np.nan)"
   ]
  },
  {
   "cell_type": "code",
   "execution_count": null,
   "metadata": {},
   "outputs": [],
   "source": [
    "os.listdir()"
   ]
  },
  {
   "cell_type": "code",
   "execution_count": null,
   "metadata": {},
   "outputs": [],
   "source": [
    "brocks_path = os.getcwd()+ \"/\" +\"motion_vectors_brocks2.hdf5\"\n",
    "farneback_path = os.getcwd()+ \"/\" +\"motion_vectors_farneback2.hdf5\"\n",
    "#h264_path = os.getcwd()+ \"/\" +\"motion_vectors_h264.h5\"\n",
    "\n",
    "h264_path = os.getcwd()+ \"/\" +\"motion_vectors_h264_median.hdf\"\n",
    "\n",
    "\n",
    "\n",
    "brocks = tables.open_file(brocks_path, mode='r')\n",
    "farneback = tables.open_file(farneback_path, mode='r')\n",
    "h264 = tables.open_file(h264_path, mode='r')"
   ]
  },
  {
   "cell_type": "code",
   "execution_count": null,
   "metadata": {},
   "outputs": [],
   "source": [
    "brocks = brocks.root.motion_tensor"
   ]
  },
  {
   "cell_type": "code",
   "execution_count": null,
   "metadata": {},
   "outputs": [],
   "source": [
    "farneback = farneback.root.motion_tensor"
   ]
  },
  {
   "cell_type": "code",
   "execution_count": null,
   "metadata": {},
   "outputs": [],
   "source": [
    "h264 = h264.root.motion_tensor"
   ]
  },
  {
   "cell_type": "code",
   "execution_count": null,
   "metadata": {},
   "outputs": [],
   "source": [
    "h264 = np.asarray(h264, dtype = np.int32)"
   ]
  },
  {
   "cell_type": "code",
   "execution_count": 48,
   "metadata": {},
   "outputs": [],
   "source": [
    "n = np.min([h264.shape[0],farneback.shape[0],brocks.shape[0]])\n",
    "ny = h264.shape[1]\n",
    "nx = h264.shape[2]"
   ]
  },
  {
   "cell_type": "code",
   "execution_count": 49,
   "metadata": {},
   "outputs": [],
   "source": [
    "def get_sample(component=\"x\", non_zero_only = False):\n",
    "    while(True):\n",
    "        frame = np.random.randint(0,n)\n",
    "        if(np.sum(h264[frame])==0):#Skip empty frames\n",
    "            continue\n",
    "        else:\n",
    "            x = np.random.randint(0,nx)\n",
    "            y = np.random.randint(0,ny)\n",
    "                    \n",
    "            if(component==\"x\"):\n",
    "                if(non_zero_only):#resample\n",
    "                    while(True):\n",
    "                        if(h264[frame,y,x,0]==0):\n",
    "                            frame = np.random.randint(0,n)\n",
    "                            x = np.random.randint(0,nx)\n",
    "                            y = np.random.randint(0,ny)\n",
    "                        else:\n",
    "                            break\n",
    "                return [h264[frame,y,x,0],farneback[frame,y,x,0],brocks[frame,y,x,0]]\n",
    "            if(component==\"y\"):\n",
    "                if(non_zero_only):#resample\n",
    "                    while(True):\n",
    "                        if(h264[frame,y,x,1]==0):\n",
    "                            frame = np.random.randint(0,n)\n",
    "                            x = np.random.randint(0,nx)\n",
    "                            y = np.random.randint(0,ny)\n",
    "                        else:\n",
    "                            break\n",
    "                return [h264[frame,y,x,1],farneback[frame,y,x,1],brocks[frame,y,x,1]]"
   ]
  },
  {
   "cell_type": "markdown",
   "metadata": {},
   "source": [
    "# Y-Component"
   ]
  },
  {
   "cell_type": "code",
   "execution_count": 97,
   "metadata": {},
   "outputs": [],
   "source": [
    "import matplotlib.pyplot as plt\n",
    "from IPython.display import clear_output"
   ]
  },
  {
   "cell_type": "code",
   "execution_count": 98,
   "metadata": {},
   "outputs": [],
   "source": [
    "sample_set = []\n",
    "n_found = 0\n",
    "for x in range(10000):\n",
    "    n_found += 1\n",
    "    print(n_found)\n",
    "    sample_set.append(get_sample(\"y\", non_zero_only = True))\n",
    "    clear_output()\n"
   ]
  },
  {
   "cell_type": "code",
   "execution_count": null,
   "metadata": {},
   "outputs": [],
   "source": [
    "sample_set = np.array(sample_set)"
   ]
  },
  {
   "cell_type": "code",
   "execution_count": null,
   "metadata": {},
   "outputs": [],
   "source": [
    "plt.scatter(sample_set[:,0],sample_set[:,1])\n",
    "#plt.xlim(-1.2, 1.2)"
   ]
  },
  {
   "cell_type": "code",
   "execution_count": null,
   "metadata": {},
   "outputs": [],
   "source": [
    "plt.scatter(sample_set[:,1],sample_set[:,2])\n",
    "plt.xlim(-2.5, 2.5)\n",
    "plt.ylim(-2.5, 2.5)"
   ]
  },
  {
   "cell_type": "code",
   "execution_count": null,
   "metadata": {},
   "outputs": [],
   "source": [
    "plt.scatter(sample_set[:,0],sample_set[:,2])"
   ]
  },
  {
   "cell_type": "code",
   "execution_count": null,
   "metadata": {},
   "outputs": [],
   "source": [
    "np.corrcoef(sample_set[:,0], sample_set[:,1])"
   ]
  },
  {
   "cell_type": "code",
   "execution_count": null,
   "metadata": {},
   "outputs": [],
   "source": [
    "np.corrcoef(sample_set[:,1], sample_set[:,2])"
   ]
  },
  {
   "cell_type": "code",
   "execution_count": null,
   "metadata": {},
   "outputs": [],
   "source": [
    "np.corrcoef(sample_set[:,0], sample_set[:,2])"
   ]
  },
  {
   "cell_type": "markdown",
   "metadata": {},
   "source": [
    "# X Component"
   ]
  },
  {
   "cell_type": "code",
   "execution_count": 99,
   "metadata": {},
   "outputs": [],
   "source": [
    "#sample_set = []\n",
    "n_found = 0\n",
    "for x in range(10000):\n",
    "    n_found += 1\n",
    "    print(n_found)\n",
    "    sample_set.append(get_sample(\"x\", non_zero_only = True))\n",
    "    clear_output()"
   ]
  },
  {
   "cell_type": "code",
   "execution_count": 100,
   "metadata": {},
   "outputs": [],
   "source": [
    "sample_set = np.array(sample_set)"
   ]
  },
  {
   "cell_type": "code",
   "execution_count": 101,
   "metadata": {},
   "outputs": [],
   "source": [
    "sample_set[:,0] = sample_set[:,0]/16.0 #Scale down"
   ]
  },
  {
   "cell_type": "code",
   "execution_count": 102,
   "metadata": {},
   "outputs": [
    {
     "data": {
      "text/plain": [
       "<matplotlib.collections.PathCollection at 0x7f25879b5828>"
      ]
     },
     "execution_count": 102,
     "metadata": {},
     "output_type": "execute_result"
    },
    {
     "data": {
      "image/png": "[encoded data removed]",
      "text/plain": [
       "<Figure size 432x288 with 1 Axes>"
      ]
     },
     "metadata": {
      "needs_background": "light"
     },
     "output_type": "display_data"
    }
   ],
   "source": [
    "plt.scatter(sample_set[:,0],sample_set[:,1])\n"
   ]
  },
  {
   "cell_type": "code",
   "execution_count": 91,
   "metadata": {},
   "outputs": [
    {
     "data": {
      "text/plain": [
       "(-2.5, 2.5)"
      ]
     },
     "execution_count": 91,
     "metadata": {},
     "output_type": "execute_result"
    },
    {
     "data": {
      "image/png": "[encoded data removed]",
      "text/plain": [
       "<Figure size 432x288 with 1 Axes>"
      ]
     },
     "metadata": {
      "needs_background": "light"
     },
     "output_type": "display_data"
    }
   ],
   "source": [
    "plt.scatter(sample_set[:,1],sample_set[:,2])\n",
    "plt.xlim(-2.5, 2.5)\n",
    "plt.ylim(-2.5, 2.5)"
   ]
  },
  {
   "cell_type": "code",
   "execution_count": 92,
   "metadata": {},
   "outputs": [
    {
     "data": {
      "text/plain": [
       "<matplotlib.collections.PathCollection at 0x7f2587d83358>"
      ]
     },
     "execution_count": 92,
     "metadata": {},
     "output_type": "execute_result"
    },
    {
     "data": {
      "image/png": "[encoded data removed]",
      "text/plain": [
       "<Figure size 432x288 with 1 Axes>"
      ]
     },
     "metadata": {
      "needs_background": "light"
     },
     "output_type": "display_data"
    }
   ],
   "source": [
    "plt.scatter(sample_set[:,0],sample_set[:,2])\n",
    "#plt.xlim(-2.5, 2.5)\n",
    "#plt.ylim(-2.5, 2.5)"
   ]
  },
  {
   "cell_type": "code",
   "execution_count": 93,
   "metadata": {},
   "outputs": [
    {
     "data": {
      "text/plain": [
       "array([[1.        , 0.39498806],\n",
       "       [0.39498806, 1.        ]])"
      ]
     },
     "execution_count": 93,
     "metadata": {},
     "output_type": "execute_result"
    }
   ],
   "source": [
    "np.corrcoef(list(sample_set[:,0]), sample_set[:,1])"
   ]
  },
  {
   "cell_type": "code",
   "execution_count": 94,
   "metadata": {},
   "outputs": [
    {
     "data": {
      "text/plain": [
       "array([[1.        , 0.80677147],\n",
       "       [0.80677147, 1.        ]])"
      ]
     },
     "execution_count": 94,
     "metadata": {},
     "output_type": "execute_result"
    }
   ],
   "source": [
    "np.corrcoef(sample_set[:,1], sample_set[:,2])"
   ]
  },
  {
   "cell_type": "code",
   "execution_count": 95,
   "metadata": {},
   "outputs": [
    {
     "data": {
      "text/plain": [
       "array([[1.        , 0.40761972],\n",
       "       [0.40761972, 1.        ]])"
      ]
     },
     "execution_count": 95,
     "metadata": {},
     "output_type": "execute_result"
    }
   ],
   "source": [
    "np.corrcoef(sample_set[:,0], sample_set[:,2])"
   ]
  },
  {
   "cell_type": "markdown",
   "metadata": {},
   "source": [
    "# Colormap approach"
   ]
  },
  {
   "cell_type": "code",
   "execution_count": null,
   "metadata": {},
   "outputs": [],
   "source": [
    "map = np.histogram2d(farneback[:,:,:,0].flatten(), brocks[:,:,:,0].flatten())"
   ]
  },
  {
   "cell_type": "code",
   "execution_count": null,
   "metadata": {},
   "outputs": [],
   "source": []
  }
 ],
 "metadata": {
  "kernelspec": {
   "display_name": "Python 3",
   "language": "python",
   "name": "python3"
  },
  "language_info": {
   "codemirror_mode": {
    "name": "ipython",
    "version": 3
   },
   "file_extension": ".py",
   "mimetype": "text/x-python",
   "name": "python",
   "nbconvert_exporter": "python",
   "pygments_lexer": "ipython3",
   "version": "3.6.7"
  }
 },
 "nbformat": 4,
 "nbformat_minor": 2
}
